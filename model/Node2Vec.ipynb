{
 "cells": [
  {
   "cell_type": "code",
   "execution_count": null,
   "metadata": {},
   "outputs": [],
   "source": [
    "import numpy as np\n",
    "import pandas as pd\n",
    "import seaborn as sns\n",
    "from matplotlib import pyplot as plt\n",
    "import networkx as nx\n",
    "from gensim.models import Word2Vec\n",
    "from sklearn.metrics.pairwise import cosine_similarity\n",
    "import matplotlib.image as mpimg\n",
    "import random\n",
    "\n",
    "import sys\n",
    "sys.path.append(\"../../src\")\n",
    "from Node2Vec import *"
   ]
  },
  {
   "cell_type": "code",
   "execution_count": null,
   "metadata": {},
   "outputs": [],
   "source": [
    "articles = pd.read_csv(\"../input/h-and-m-personalized-fashion-recommendations/articles.csv\")\n",
    "# customers = pd.read_csv(\"../input/h-and-m-personalized-fashion-recommendations/customers.csv\")\n",
    "transactions = pd.read_csv(\"../input/h-and-m-personalized-fashion-recommendations/transactions_train.csv\")"
   ]
  },
  {
   "cell_type": "code",
   "execution_count": null,
   "metadata": {},
   "outputs": [],
   "source": [
    "item_freq = transactions.groupby('article_id')['customer_id'].nunique()\n",
    "user_freq = transactions.groupby('customer_id')['article_id'].nunique()\n",
    "\n",
    "items = item_freq[item_freq >= 100].index\n",
    "users = user_freq[user_freq >= 100].index\n",
    "\n",
    "filtered_df = transactions[transactions['article_id'].isin(items) & transactions['customer_id'].isin(users)]"
   ]
  },
  {
   "cell_type": "code",
   "execution_count": null,
   "metadata": {},
   "outputs": [],
   "source": [
    "freq = filtered_df.groupby(['customer_id', 'article_id']).size().reset_index(name='frequency')\n",
    "\n",
    "GraphTravel_HM = filtered_df.merge(freq, on=['customer_id', 'article_id'], how='left')\n",
    "\n",
    "GraphTravel_HM = GraphTravel_HM[GraphTravel_HM['frequency'] >= 10]"
   ]
  },
  {
   "cell_type": "code",
   "execution_count": null,
   "metadata": {},
   "outputs": [],
   "source": [
    "display(GraphTravel_HM)\n",
    "\n",
    "print(\"unique customer_id\" , GraphTravel_HM.customer_id.nunique())\n",
    "print(\"unique article_id\" , GraphTravel_HM.article_id.nunique())"
   ]
  },
  {
   "cell_type": "code",
   "execution_count": null,
   "metadata": {},
   "outputs": [],
   "source": [
    "sns.distplot(GraphTravel_HM['frequency'], kde=True, bins=30)\n",
    "\n",
    "plt.title('Distribution of frequency')\n",
    "plt.xlabel('Frequency')\n",
    "plt.ylabel('Density')\n",
    "\n",
    "plt.show()"
   ]
  },
  {
   "cell_type": "code",
   "execution_count": null,
   "metadata": {},
   "outputs": [],
   "source": [
    "unique_customer_ids = GraphTravel_HM['customer_id'].unique()\n",
    "customer_id_mapping = {id: i for i, id in enumerate(unique_customer_ids)}\n",
    "GraphTravel_HM['customer_id'] = GraphTravel_HM['customer_id'].map(customer_id_mapping)\n",
    "\n",
    "item_name_mapping = dict(zip(articles['article_id'], articles['prod_name'])) # prod_name"
   ]
  },
  {
   "cell_type": "code",
   "execution_count": null,
   "metadata": {},
   "outputs": [],
   "source": [
    "G = nx.Graph()\n",
    "\n",
    "for index, row in GraphTravel_HM.iterrows():\n",
    "    G.add_node(row['customer_id'], type='user')\n",
    "    G.add_node(row['article_id'], type='item')\n",
    "    G.add_edge(row['customer_id'], row['article_id'], weight=row['frequency'])"
   ]
  },
  {
   "cell_type": "code",
   "execution_count": null,
   "metadata": {},
   "outputs": [],
   "source": [
    "# Random Walk \n",
    "walks = generate_walks(G, num_walks=10, walk_length=20, p=9, q=1)\n",
    "filtered_walks = [walk for walk in walks if len(walk) >= 5]\n",
    "\n",
    "# to String  (for Word2Vec input)\n",
    "walks = [[str(node) for node in walk] for walk in walks]\n",
    "\n",
    "# Word2Vec train\n",
    "model = Word2Vec(walks, vector_size=128, window=5, min_count=0,  hs=1, sg=1, workers=4, epochs=10)\n",
    "\n",
    "# node embedding extract\n",
    "embeddings = {node_id: model.wv[node_id] for node_id in model.wv.index_to_key}"
   ]
  },
  {
   "cell_type": "code",
   "execution_count": null,
   "metadata": {},
   "outputs": [],
   "source": [
    "recommend_items(45, GraphTravel_HM, embeddings, item_name_mapping, num_items=5)"
   ]
  }
 ],
 "metadata": {
  "language_info": {
   "name": "python"
  },
  "orig_nbformat": 4
 },
 "nbformat": 4,
 "nbformat_minor": 2
}
